{
 "cells": [
  {
   "cell_type": "markdown",
   "id": "3ad0a3fd",
   "metadata": {},
   "source": [
    "# Timeseries forecasting for gas sensors prediction"
   ]
  },
  {
   "cell_type": "markdown",
   "id": "6e6da7a1",
   "metadata": {},
   "source": [
    "Setup"
   ]
  },
  {
   "cell_type": "code",
   "execution_count": 1,
   "id": "178a96aa",
   "metadata": {},
   "outputs": [],
   "source": [
    "import matplotlib.pyplot as plt\n",
    "import tensorflow as tf\n",
    "from tensorflow import keras"
   ]
  },
  {
   "cell_type": "code",
   "execution_count": 2,
   "id": "191d962f",
   "metadata": {},
   "outputs": [
    {
     "name": "stdout",
     "output_type": "stream",
     "text": [
      "Requirement already satisfied: pandas in c:\\users\\mirela\\anaconda3\\lib\\site-packages (1.2.4)\n",
      "Requirement already satisfied: python-dateutil>=2.7.3 in c:\\users\\mirela\\anaconda3\\lib\\site-packages (from pandas) (2.8.1)\n",
      "Requirement already satisfied: pytz>=2017.3 in c:\\users\\mirela\\anaconda3\\lib\\site-packages (from pandas) (2021.1)\n",
      "Requirement already satisfied: numpy>=1.16.5 in c:\\users\\mirela\\anaconda3\\lib\\site-packages (from pandas) (1.19.5)\n",
      "Requirement already satisfied: six>=1.5 in c:\\users\\mirela\\anaconda3\\lib\\site-packages (from python-dateutil>=2.7.3->pandas) (1.15.0)\n"
     ]
    }
   ],
   "source": [
    "!pip install pandas"
   ]
  },
  {
   "cell_type": "code",
   "execution_count": 3,
   "id": "78dd5c3b",
   "metadata": {},
   "outputs": [
    {
     "data": {
      "text/html": [
       "<div>\n",
       "<style scoped>\n",
       "    .dataframe tbody tr th:only-of-type {\n",
       "        vertical-align: middle;\n",
       "    }\n",
       "\n",
       "    .dataframe tbody tr th {\n",
       "        vertical-align: top;\n",
       "    }\n",
       "\n",
       "    .dataframe thead th {\n",
       "        text-align: right;\n",
       "    }\n",
       "</style>\n",
       "<table border=\"1\" class=\"dataframe\">\n",
       "  <thead>\n",
       "    <tr style=\"text-align: right;\">\n",
       "      <th></th>\n",
       "      <th>Time (s)</th>\n",
       "      <th>CO (ppm)</th>\n",
       "      <th>Humidity (%r.h.)</th>\n",
       "      <th>Temperature (C)</th>\n",
       "      <th>Flow rate (mL/min)</th>\n",
       "      <th>Heater voltage (V)</th>\n",
       "      <th>R1 (MOhm)</th>\n",
       "      <th>R2 (MOhm)</th>\n",
       "      <th>R3 (MOhm)</th>\n",
       "      <th>R4 (MOhm)</th>\n",
       "      <th>...</th>\n",
       "      <th>1.2534</th>\n",
       "      <th>1.4449</th>\n",
       "      <th>1.9906</th>\n",
       "      <th>1.3303</th>\n",
       "      <th>1.4480</th>\n",
       "      <th>1.9148</th>\n",
       "      <th>3.4651</th>\n",
       "      <th>5.2144</th>\n",
       "      <th>6.5806</th>\n",
       "      <th>8.6385</th>\n",
       "    </tr>\n",
       "  </thead>\n",
       "  <tbody>\n",
       "    <tr>\n",
       "      <th>0</th>\n",
       "      <td>0.309</td>\n",
       "      <td>0.0</td>\n",
       "      <td>55.84</td>\n",
       "      <td>26.62</td>\n",
       "      <td>241.6323</td>\n",
       "      <td>0.2112</td>\n",
       "      <td>2.1314</td>\n",
       "      <td>5.3552</td>\n",
       "      <td>9.7569</td>\n",
       "      <td>6.3188</td>\n",
       "      <td>...</td>\n",
       "      <td>NaN</td>\n",
       "      <td>NaN</td>\n",
       "      <td>NaN</td>\n",
       "      <td>NaN</td>\n",
       "      <td>NaN</td>\n",
       "      <td>NaN</td>\n",
       "      <td>NaN</td>\n",
       "      <td>NaN</td>\n",
       "      <td>NaN</td>\n",
       "      <td>NaN</td>\n",
       "    </tr>\n",
       "    <tr>\n",
       "      <th>1</th>\n",
       "      <td>0.618</td>\n",
       "      <td>0.0</td>\n",
       "      <td>55.84</td>\n",
       "      <td>26.62</td>\n",
       "      <td>241.3888</td>\n",
       "      <td>0.2070</td>\n",
       "      <td>10.5318</td>\n",
       "      <td>22.5612</td>\n",
       "      <td>37.2635</td>\n",
       "      <td>17.7848</td>\n",
       "      <td>...</td>\n",
       "      <td>NaN</td>\n",
       "      <td>NaN</td>\n",
       "      <td>NaN</td>\n",
       "      <td>NaN</td>\n",
       "      <td>NaN</td>\n",
       "      <td>NaN</td>\n",
       "      <td>NaN</td>\n",
       "      <td>NaN</td>\n",
       "      <td>NaN</td>\n",
       "      <td>NaN</td>\n",
       "    </tr>\n",
       "    <tr>\n",
       "      <th>2</th>\n",
       "      <td>0.926</td>\n",
       "      <td>0.0</td>\n",
       "      <td>55.84</td>\n",
       "      <td>26.62</td>\n",
       "      <td>241.1461</td>\n",
       "      <td>0.2042</td>\n",
       "      <td>29.5749</td>\n",
       "      <td>49.5111</td>\n",
       "      <td>65.6318</td>\n",
       "      <td>26.1447</td>\n",
       "      <td>...</td>\n",
       "      <td>NaN</td>\n",
       "      <td>NaN</td>\n",
       "      <td>NaN</td>\n",
       "      <td>NaN</td>\n",
       "      <td>NaN</td>\n",
       "      <td>NaN</td>\n",
       "      <td>NaN</td>\n",
       "      <td>NaN</td>\n",
       "      <td>NaN</td>\n",
       "      <td>NaN</td>\n",
       "    </tr>\n",
       "    <tr>\n",
       "      <th>3</th>\n",
       "      <td>1.234</td>\n",
       "      <td>0.0</td>\n",
       "      <td>55.84</td>\n",
       "      <td>26.62</td>\n",
       "      <td>240.9121</td>\n",
       "      <td>0.2030</td>\n",
       "      <td>49.5111</td>\n",
       "      <td>67.0368</td>\n",
       "      <td>77.8317</td>\n",
       "      <td>27.9625</td>\n",
       "      <td>...</td>\n",
       "      <td>NaN</td>\n",
       "      <td>NaN</td>\n",
       "      <td>NaN</td>\n",
       "      <td>NaN</td>\n",
       "      <td>NaN</td>\n",
       "      <td>NaN</td>\n",
       "      <td>NaN</td>\n",
       "      <td>NaN</td>\n",
       "      <td>NaN</td>\n",
       "      <td>NaN</td>\n",
       "    </tr>\n",
       "    <tr>\n",
       "      <th>4</th>\n",
       "      <td>1.544</td>\n",
       "      <td>0.0</td>\n",
       "      <td>55.84</td>\n",
       "      <td>26.62</td>\n",
       "      <td>240.8361</td>\n",
       "      <td>0.2020</td>\n",
       "      <td>60.1083</td>\n",
       "      <td>74.3444</td>\n",
       "      <td>81.5100</td>\n",
       "      <td>29.7970</td>\n",
       "      <td>...</td>\n",
       "      <td>NaN</td>\n",
       "      <td>NaN</td>\n",
       "      <td>NaN</td>\n",
       "      <td>NaN</td>\n",
       "      <td>NaN</td>\n",
       "      <td>NaN</td>\n",
       "      <td>NaN</td>\n",
       "      <td>NaN</td>\n",
       "      <td>NaN</td>\n",
       "      <td>NaN</td>\n",
       "    </tr>\n",
       "    <tr>\n",
       "      <th>...</th>\n",
       "      <td>...</td>\n",
       "      <td>...</td>\n",
       "      <td>...</td>\n",
       "      <td>...</td>\n",
       "      <td>...</td>\n",
       "      <td>...</td>\n",
       "      <td>...</td>\n",
       "      <td>...</td>\n",
       "      <td>...</td>\n",
       "      <td>...</td>\n",
       "      <td>...</td>\n",
       "      <td>...</td>\n",
       "      <td>...</td>\n",
       "      <td>...</td>\n",
       "      <td>...</td>\n",
       "      <td>...</td>\n",
       "      <td>...</td>\n",
       "      <td>...</td>\n",
       "      <td>...</td>\n",
       "      <td>...</td>\n",
       "      <td>...</td>\n",
       "    </tr>\n",
       "    <tr>\n",
       "      <th>295713</th>\n",
       "      <td>90908.545</td>\n",
       "      <td>0.0</td>\n",
       "      <td>62.30</td>\n",
       "      <td>26.58</td>\n",
       "      <td>0.0000</td>\n",
       "      <td>0.2000</td>\n",
       "      <td>5.5429</td>\n",
       "      <td>2.5713</td>\n",
       "      <td>10.3815</td>\n",
       "      <td>18.5796</td>\n",
       "      <td>...</td>\n",
       "      <td>NaN</td>\n",
       "      <td>NaN</td>\n",
       "      <td>NaN</td>\n",
       "      <td>NaN</td>\n",
       "      <td>NaN</td>\n",
       "      <td>NaN</td>\n",
       "      <td>NaN</td>\n",
       "      <td>NaN</td>\n",
       "      <td>NaN</td>\n",
       "      <td>NaN</td>\n",
       "    </tr>\n",
       "    <tr>\n",
       "      <th>295714</th>\n",
       "      <td>90908.853</td>\n",
       "      <td>0.0</td>\n",
       "      <td>62.30</td>\n",
       "      <td>26.58</td>\n",
       "      <td>0.0000</td>\n",
       "      <td>0.2000</td>\n",
       "      <td>4.5527</td>\n",
       "      <td>2.1454</td>\n",
       "      <td>8.5494</td>\n",
       "      <td>18.0592</td>\n",
       "      <td>...</td>\n",
       "      <td>NaN</td>\n",
       "      <td>NaN</td>\n",
       "      <td>NaN</td>\n",
       "      <td>NaN</td>\n",
       "      <td>NaN</td>\n",
       "      <td>NaN</td>\n",
       "      <td>NaN</td>\n",
       "      <td>NaN</td>\n",
       "      <td>NaN</td>\n",
       "      <td>NaN</td>\n",
       "    </tr>\n",
       "    <tr>\n",
       "      <th>295715</th>\n",
       "      <td>90909.162</td>\n",
       "      <td>0.0</td>\n",
       "      <td>62.30</td>\n",
       "      <td>26.58</td>\n",
       "      <td>0.0000</td>\n",
       "      <td>0.2000</td>\n",
       "      <td>3.7374</td>\n",
       "      <td>1.8492</td>\n",
       "      <td>7.1062</td>\n",
       "      <td>18.0087</td>\n",
       "      <td>...</td>\n",
       "      <td>NaN</td>\n",
       "      <td>NaN</td>\n",
       "      <td>NaN</td>\n",
       "      <td>NaN</td>\n",
       "      <td>NaN</td>\n",
       "      <td>NaN</td>\n",
       "      <td>NaN</td>\n",
       "      <td>NaN</td>\n",
       "      <td>NaN</td>\n",
       "      <td>NaN</td>\n",
       "    </tr>\n",
       "    <tr>\n",
       "      <th>295716</th>\n",
       "      <td>90909.469</td>\n",
       "      <td>0.0</td>\n",
       "      <td>62.30</td>\n",
       "      <td>26.58</td>\n",
       "      <td>0.0000</td>\n",
       "      <td>0.2000</td>\n",
       "      <td>3.1197</td>\n",
       "      <td>1.6190</td>\n",
       "      <td>5.9138</td>\n",
       "      <td>17.6950</td>\n",
       "      <td>...</td>\n",
       "      <td>NaN</td>\n",
       "      <td>NaN</td>\n",
       "      <td>NaN</td>\n",
       "      <td>NaN</td>\n",
       "      <td>NaN</td>\n",
       "      <td>NaN</td>\n",
       "      <td>NaN</td>\n",
       "      <td>NaN</td>\n",
       "      <td>NaN</td>\n",
       "      <td>NaN</td>\n",
       "    </tr>\n",
       "    <tr>\n",
       "      <th>295717</th>\n",
       "      <td>90909.778</td>\n",
       "      <td>0.0</td>\n",
       "      <td>62.30</td>\n",
       "      <td>26.58</td>\n",
       "      <td>0.0000</td>\n",
       "      <td>0.2000</td>\n",
       "      <td>2.6417</td>\n",
       "      <td>1.4409</td>\n",
       "      <td>4.9396</td>\n",
       "      <td>17.0448</td>\n",
       "      <td>...</td>\n",
       "      <td>NaN</td>\n",
       "      <td>NaN</td>\n",
       "      <td>NaN</td>\n",
       "      <td>NaN</td>\n",
       "      <td>NaN</td>\n",
       "      <td>NaN</td>\n",
       "      <td>NaN</td>\n",
       "      <td>NaN</td>\n",
       "      <td>NaN</td>\n",
       "      <td>NaN</td>\n",
       "    </tr>\n",
       "  </tbody>\n",
       "</table>\n",
       "<p>295718 rows × 40 columns</p>\n",
       "</div>"
      ],
      "text/plain": [
       "         Time (s)  CO (ppm)  Humidity (%r.h.)  Temperature (C)  \\\n",
       "0           0.309       0.0             55.84            26.62   \n",
       "1           0.618       0.0             55.84            26.62   \n",
       "2           0.926       0.0             55.84            26.62   \n",
       "3           1.234       0.0             55.84            26.62   \n",
       "4           1.544       0.0             55.84            26.62   \n",
       "...           ...       ...               ...              ...   \n",
       "295713  90908.545       0.0             62.30            26.58   \n",
       "295714  90908.853       0.0             62.30            26.58   \n",
       "295715  90909.162       0.0             62.30            26.58   \n",
       "295716  90909.469       0.0             62.30            26.58   \n",
       "295717  90909.778       0.0             62.30            26.58   \n",
       "\n",
       "        Flow rate (mL/min)  Heater voltage (V)  R1 (MOhm)  R2 (MOhm)  \\\n",
       "0                 241.6323              0.2112     2.1314     5.3552   \n",
       "1                 241.3888              0.2070    10.5318    22.5612   \n",
       "2                 241.1461              0.2042    29.5749    49.5111   \n",
       "3                 240.9121              0.2030    49.5111    67.0368   \n",
       "4                 240.8361              0.2020    60.1083    74.3444   \n",
       "...                    ...                 ...        ...        ...   \n",
       "295713              0.0000              0.2000     5.5429     2.5713   \n",
       "295714              0.0000              0.2000     4.5527     2.1454   \n",
       "295715              0.0000              0.2000     3.7374     1.8492   \n",
       "295716              0.0000              0.2000     3.1197     1.6190   \n",
       "295717              0.0000              0.2000     2.6417     1.4409   \n",
       "\n",
       "        R3 (MOhm)  R4 (MOhm)  ...  1.2534  1.4449  1.9906  1.3303  1.4480  \\\n",
       "0          9.7569     6.3188  ...     NaN     NaN     NaN     NaN     NaN   \n",
       "1         37.2635    17.7848  ...     NaN     NaN     NaN     NaN     NaN   \n",
       "2         65.6318    26.1447  ...     NaN     NaN     NaN     NaN     NaN   \n",
       "3         77.8317    27.9625  ...     NaN     NaN     NaN     NaN     NaN   \n",
       "4         81.5100    29.7970  ...     NaN     NaN     NaN     NaN     NaN   \n",
       "...           ...        ...  ...     ...     ...     ...     ...     ...   \n",
       "295713    10.3815    18.5796  ...     NaN     NaN     NaN     NaN     NaN   \n",
       "295714     8.5494    18.0592  ...     NaN     NaN     NaN     NaN     NaN   \n",
       "295715     7.1062    18.0087  ...     NaN     NaN     NaN     NaN     NaN   \n",
       "295716     5.9138    17.6950  ...     NaN     NaN     NaN     NaN     NaN   \n",
       "295717     4.9396    17.0448  ...     NaN     NaN     NaN     NaN     NaN   \n",
       "\n",
       "        1.9148  3.4651  5.2144  6.5806  8.6385  \n",
       "0          NaN     NaN     NaN     NaN     NaN  \n",
       "1          NaN     NaN     NaN     NaN     NaN  \n",
       "2          NaN     NaN     NaN     NaN     NaN  \n",
       "3          NaN     NaN     NaN     NaN     NaN  \n",
       "4          NaN     NaN     NaN     NaN     NaN  \n",
       "...        ...     ...     ...     ...     ...  \n",
       "295713     NaN     NaN     NaN     NaN     NaN  \n",
       "295714     NaN     NaN     NaN     NaN     NaN  \n",
       "295715     NaN     NaN     NaN     NaN     NaN  \n",
       "295716     NaN     NaN     NaN     NaN     NaN  \n",
       "295717     NaN     NaN     NaN     NaN     NaN  \n",
       "\n",
       "[295718 rows x 40 columns]"
      ]
     },
     "execution_count": 3,
     "metadata": {},
     "output_type": "execute_result"
    }
   ],
   "source": [
    "import pandas as pd\n",
    "df = pd.read_csv('C:\\\\Users\\\\Mirela\\\\PycharmProjects\\\\KALYPSO\\\\dataset tempMod CO_RH\\\\20160930_203718.csv')\n",
    "df"
   ]
  },
  {
   "cell_type": "code",
   "execution_count": 4,
   "id": "ead25dc9",
   "metadata": {},
   "outputs": [
    {
     "name": "stdout",
     "output_type": "stream",
     "text": [
      "<class 'pandas.core.frame.DataFrame'>\n",
      "RangeIndex: 295718 entries, 0 to 295717\n",
      "Data columns (total 40 columns):\n",
      " #   Column              Non-Null Count   Dtype  \n",
      "---  ------              --------------   -----  \n",
      " 0   Time (s)            295718 non-null  float64\n",
      " 1   CO (ppm)            295718 non-null  float64\n",
      " 2   Humidity (%r.h.)    295718 non-null  float64\n",
      " 3   Temperature (C)     295718 non-null  float64\n",
      " 4   Flow rate (mL/min)  295718 non-null  float64\n",
      " 5   Heater voltage (V)  295718 non-null  float64\n",
      " 6   R1 (MOhm)           295718 non-null  float64\n",
      " 7   R2 (MOhm)           295718 non-null  float64\n",
      " 8   R3 (MOhm)           295718 non-null  float64\n",
      " 9   R4 (MOhm)           295718 non-null  float64\n",
      " 10  R5 (MOhm)           295718 non-null  float64\n",
      " 11  R6 (MOhm)           295718 non-null  float64\n",
      " 12  R7 (MOhm)           295718 non-null  float64\n",
      " 13  R8 (MOhm)           295718 non-null  float64\n",
      " 14  R9 (MOhm)           295718 non-null  float64\n",
      " 15  R10 (MOhm)          295718 non-null  float64\n",
      " 16  R11 (MOhm)          295718 non-null  float64\n",
      " 17  R12 (MOhm)          295718 non-null  float64\n",
      " 18  R13 (MOhm)          295718 non-null  float64\n",
      " 19  R14 (MOhm)          295718 non-null  float64\n",
      " 20  0.0000              0 non-null       float64\n",
      " 21  0.0000.1            0 non-null       float64\n",
      " 22  49.7534             0 non-null       float64\n",
      " 23  23.7184             0 non-null       float64\n",
      " 24  233.2737            0 non-null       float64\n",
      " 25  0.8993              0 non-null       float64\n",
      " 26  0.2231              0 non-null       float64\n",
      " 27  0.6365              0 non-null       float64\n",
      " 28  1.1493              0 non-null       float64\n",
      " 29  0.8483              0 non-null       float64\n",
      " 30  1.2534              0 non-null       float64\n",
      " 31  1.4449              0 non-null       float64\n",
      " 32  1.9906              0 non-null       float64\n",
      " 33  1.3303              0 non-null       float64\n",
      " 34  1.4480              0 non-null       float64\n",
      " 35  1.9148              0 non-null       float64\n",
      " 36  3.4651              0 non-null       float64\n",
      " 37  5.2144              0 non-null       float64\n",
      " 38  6.5806              0 non-null       float64\n",
      " 39  8.6385              0 non-null       float64\n",
      "dtypes: float64(40)\n",
      "memory usage: 90.2 MB\n"
     ]
    }
   ],
   "source": [
    "df.info()"
   ]
  },
  {
   "cell_type": "code",
   "execution_count": 5,
   "id": "43f39216",
   "metadata": {},
   "outputs": [],
   "source": [
    "df = df.iloc[:,0:20].copy()"
   ]
  },
  {
   "cell_type": "code",
   "execution_count": 6,
   "id": "9a060679",
   "metadata": {},
   "outputs": [
    {
     "data": {
      "image/png": "[encoded data removed]",
      "text/plain": [
       "<Figure size 288x288 with 2 Axes>"
      ]
     },
     "metadata": {
      "needs_background": "light"
     },
     "output_type": "display_data"
    }
   ],
   "source": [
    "def show_heatmap(data):\n",
    "    plt.matshow(data.corr())\n",
    "    plt.xticks(range(data.shape[1]), data.columns, fontsize=14, rotation=90)\n",
    "    plt.gca().xaxis.tick_bottom()\n",
    "    plt.yticks(range(data.shape[1]), data.columns, fontsize=14)\n",
    "\n",
    "    cb = plt.colorbar()\n",
    "    cb.ax.tick_params(labelsize=12)\n",
    "    plt.title(\"Feature Correlation HeatMap\", fontsize=12)\n",
    "    plt.show()\n",
    "\n",
    "\n",
    "show_heatmap(df)\n",
    "\n"
   ]
  },
  {
   "cell_type": "markdown",
   "id": "07f51123",
   "metadata": {},
   "source": [
    "Data Preprocessing\n",
    "\n",
    "We are picking  207.002 data points for training. Observation is recorded every 0.309s. We will resample one point per 10 observation points. We do this via the sampling_rate argument in timeseries_dataset_from_array utility.\n",
    "\n",
    "We are tracking data from past 1200 timestamps.\n",
    "This data will be used to predict the CO concentration after 120 timestamps.\n",
    "\n",
    "Since every feature has values with varying ranges, we do normalization to confine feature values to a range of [0, 1] before training a neural network. We do this by subtracting the mean and dividing by the standard deviation of each feature.\n",
    "\n",
    "70.00 % of the data will be used to train the model, i.e. 207.002 rows.\n",
    "The CO concentration after 120  observation will be used as a label.\n"
   ]
  },
  {
   "cell_type": "code",
   "execution_count": 7,
   "id": "63876289",
   "metadata": {},
   "outputs": [],
   "source": [
    "split_fraction = 0.7\n",
    "train_split = int(split_fraction * int(df.shape[0]))\n",
    "step = 10\n",
    "past = 1200\n",
    "future = 120\n",
    "learning_rate = 0.001\n",
    "batch_size = 256\n",
    "epochs = 10\n"
   ]
  },
  {
   "cell_type": "markdown",
   "id": "0c924325",
   "metadata": {},
   "source": [
    "We can see from the correlation heatmap, few parameters  are redundant. We will be using select features, not all."
   ]
  },
  {
   "cell_type": "code",
   "execution_count": 8,
   "id": "393e2d3d",
   "metadata": {},
   "outputs": [],
   "source": [
    "def normalize(data, train_split):\n",
    "    data_mean = data[:train_split].mean(axis=0)\n",
    "    data_std = data[:train_split].std(axis=0)\n",
    "    return (data - data_mean) / data_std\n",
    "\n",
    "\n",
    "features = df[['Time (s)','CO (ppm)','Flow rate (mL/min)' ,'Heater voltage (V)','R1 (MOhm)','R2 (MOhm)','R3 (MOhm)','R4 (MOhm)','R5 (MOhm)','R6 (MOhm)']]\n",
    "features.head()\n",
    "\n",
    "features = normalize(features.values, train_split)\n",
    "features = pd.DataFrame(features)\n",
    "features.head()\n",
    "\n",
    "train_data = features.loc[0 : train_split - 1]\n",
    "val_data = features.loc[train_split:]"
   ]
  },
  {
   "cell_type": "markdown",
   "id": "4a44f229",
   "metadata": {},
   "source": [
    "Training dataset"
   ]
  },
  {
   "cell_type": "markdown",
   "id": "56eb44aa",
   "metadata": {},
   "source": [
    "The training dataset labels starts from the 1320nd observation (1200 + 120)."
   ]
  },
  {
   "cell_type": "code",
   "execution_count": 9,
   "id": "f057f5a1",
   "metadata": {},
   "outputs": [],
   "source": [
    "start = past + future\n",
    "end = start + train_split\n",
    "\n",
    "x_train = train_data[[i for i in range(10)]].values\n",
    "y_train = features.iloc[start:end][[1]]\n",
    "sequence_length = int(past / step)"
   ]
  },
  {
   "cell_type": "markdown",
   "id": "e9cc3182",
   "metadata": {},
   "source": [
    "The timeseries_dataset_from_array function takes in a sequence of data-points gathered at equal intervals, along with time series parameters such as length of the sequences/windows, spacing between two sequence/windows, etc., to produce batches of sub-timeseries inputs and targets sampled from the main timeseries."
   ]
  },
  {
   "cell_type": "code",
   "execution_count": 10,
   "id": "883bce31",
   "metadata": {},
   "outputs": [],
   "source": [
    "import tensorflow as tf\n",
    "dataset_train = tf.keras.preprocessing.timeseries_dataset_from_array(\n",
    "    x_train,\n",
    "    y_train,\n",
    "    sequence_length=sequence_length,\n",
    "    sampling_rate=step,\n",
    "    batch_size=batch_size,\n",
    ")\n"
   ]
  },
  {
   "cell_type": "markdown",
   "id": "80c5ddfe",
   "metadata": {},
   "source": [
    "\n",
    "Validation dataset\n",
    "\n",
    "The validation dataset must not contain the last 1320 rows as we won't have label data for those records, hence 1320 must be subtracted from the end of the data.\n",
    "\n",
    "The validation label dataset must start from 1320 after train_split,  we must add past + future (1320) to label_start.\n"
   ]
  },
  {
   "cell_type": "code",
   "execution_count": 11,
   "id": "ff3d3fa3",
   "metadata": {},
   "outputs": [
    {
     "name": "stdout",
     "output_type": "stream",
     "text": [
      "Input shape: (256, 120, 10)\n",
      "Target shape: (256, 1)\n"
     ]
    }
   ],
   "source": [
    "x_end = len(val_data) - past - future\n",
    "\n",
    "label_start = train_split + past + future\n",
    "\n",
    "x_val = val_data.iloc[:x_end][[i for i in range(10)]].values\n",
    "y_val = features.iloc[label_start:][[1]]\n",
    "\n",
    "dataset_val = tf.keras.preprocessing.timeseries_dataset_from_array(\n",
    "    x_val,\n",
    "    y_val,\n",
    "    sequence_length=sequence_length,\n",
    "    sampling_rate=step,\n",
    "    batch_size=batch_size,\n",
    ")\n",
    "\n",
    "\n",
    "for batch in dataset_train.take(1):\n",
    "    inputs, targets = batch\n",
    "\n",
    "print(\"Input shape:\", inputs.numpy().shape)\n",
    "print(\"Target shape:\", targets.numpy().shape)\n"
   ]
  },
  {
   "cell_type": "markdown",
   "id": "9ee09f0c",
   "metadata": {},
   "source": [
    "Training"
   ]
  },
  {
   "cell_type": "code",
   "execution_count": 12,
   "id": "d48dbeaa",
   "metadata": {},
   "outputs": [
    {
     "name": "stdout",
     "output_type": "stream",
     "text": [
      "Model: \"functional_1\"\n",
      "_________________________________________________________________\n",
      "Layer (type)                 Output Shape              Param #   \n",
      "=================================================================\n",
      "input_1 (InputLayer)         [(None, 120, 10)]         0         \n",
      "_________________________________________________________________\n",
      "lstm (LSTM)                  (None, 32)                5504      \n",
      "_________________________________________________________________\n",
      "dense (Dense)                (None, 1)                 33        \n",
      "=================================================================\n",
      "Total params: 5,537\n",
      "Trainable params: 5,537\n",
      "Non-trainable params: 0\n",
      "_________________________________________________________________\n"
     ]
    }
   ],
   "source": [
    "inputs = keras.layers.Input(shape=(inputs.shape[1], inputs.shape[2]))\n",
    "lstm_out = keras.layers.LSTM(32)(inputs)\n",
    "outputs = keras.layers.Dense(1)(lstm_out)\n",
    "\n",
    "model = keras.Model(inputs=inputs, outputs=outputs)\n",
    "model.compile(optimizer=keras.optimizers.Adam(learning_rate=learning_rate), loss=\"mse\")\n",
    "model.summary()"
   ]
  },
  {
   "cell_type": "markdown",
   "id": "3a7cd711",
   "metadata": {},
   "source": [
    "We'll use the ModelCheckpoint callback to regularly save checkpoints, and the EarlyStopping callback to interrupt training when the validation loss is not longer improving."
   ]
  },
  {
   "cell_type": "code",
   "execution_count": 13,
   "id": "28e1cc72",
   "metadata": {},
   "outputs": [
    {
     "name": "stdout",
     "output_type": "stream",
     "text": [
      "Epoch 1/10\n",
      "804/804 [==============================] - ETA: 0s - loss: 0.2074\n",
      "Epoch 00001: val_loss improved from inf to 0.07538, saving model to model_checkpoint.h5\n",
      "804/804 [==============================] - 90s 112ms/step - loss: 0.2074 - val_loss: 0.0754\n",
      "Epoch 2/10\n",
      "804/804 [==============================] - ETA: 0s - loss: 0.1306- ETA: \n",
      "Epoch 00002: val_loss improved from 0.07538 to 0.05483, saving model to model_checkpoint.h5\n",
      "804/804 [==============================] - 92s 115ms/step - loss: 0.1306 - val_loss: 0.0548\n",
      "Epoch 3/10\n",
      "804/804 [==============================] - ETA: 0s - loss: 0.1218\n",
      "Epoch 00003: val_loss improved from 0.05483 to 0.04984, saving model to model_checkpoint.h5\n",
      "804/804 [==============================] - 92s 114ms/step - loss: 0.1218 - val_loss: 0.0498\n",
      "Epoch 4/10\n",
      "804/804 [==============================] - ETA: 0s - loss: 0.1186\n",
      "Epoch 00004: val_loss improved from 0.04984 to 0.04732, saving model to model_checkpoint.h5\n",
      "804/804 [==============================] - 94s 117ms/step - loss: 0.1186 - val_loss: 0.0473\n",
      "Epoch 5/10\n",
      "804/804 [==============================] - ETA: 0s - loss: 0.1166\n",
      "Epoch 00005: val_loss improved from 0.04732 to 0.04602, saving model to model_checkpoint.h5\n",
      "804/804 [==============================] - 90s 112ms/step - loss: 0.1166 - val_loss: 0.0460\n",
      "Epoch 6/10\n",
      "804/804 [==============================] - ETA: 0s - loss: 0.1152\n",
      "Epoch 00006: val_loss improved from 0.04602 to 0.04537, saving model to model_checkpoint.h5\n",
      "804/804 [==============================] - 89s 111ms/step - loss: 0.1152 - val_loss: 0.0454\n",
      "Epoch 7/10\n",
      "804/804 [==============================] - ETA: 0s - loss: 0.1141\n",
      "Epoch 00007: val_loss improved from 0.04537 to 0.04509, saving model to model_checkpoint.h5\n",
      "804/804 [==============================] - 89s 111ms/step - loss: 0.1141 - val_loss: 0.0451\n",
      "Epoch 8/10\n",
      "804/804 [==============================] - ETA: 0s - loss: 0.1132\n",
      "Epoch 00008: val_loss improved from 0.04509 to 0.04496, saving model to model_checkpoint.h5\n",
      "804/804 [==============================] - 89s 111ms/step - loss: 0.1132 - val_loss: 0.0450\n",
      "Epoch 9/10\n",
      "804/804 [==============================] - ETA: 0s - loss: 0.1125\n",
      "Epoch 00009: val_loss improved from 0.04496 to 0.04483, saving model to model_checkpoint.h5\n",
      "804/804 [==============================] - 91s 113ms/step - loss: 0.1125 - val_loss: 0.0448\n",
      "Epoch 10/10\n",
      "804/804 [==============================] - ETA: 0s - loss: 0.1119\n",
      "Epoch 00010: val_loss improved from 0.04483 to 0.04470, saving model to model_checkpoint.h5\n",
      "804/804 [==============================] - 90s 111ms/step - loss: 0.1119 - val_loss: 0.0447\n"
     ]
    }
   ],
   "source": [
    "path_checkpoint = \"model_checkpoint.h5\"\n",
    "es_callback = keras.callbacks.EarlyStopping(monitor=\"val_loss\", min_delta=0, patience=5)\n",
    "\n",
    "modelckpt_callback = keras.callbacks.ModelCheckpoint(\n",
    "    monitor=\"val_loss\",\n",
    "    filepath=path_checkpoint,\n",
    "    verbose=1,\n",
    "    save_weights_only=True,\n",
    "    save_best_only=True,\n",
    ")\n",
    "\n",
    "history = model.fit(\n",
    "    dataset_train,\n",
    "    epochs=epochs,\n",
    "    validation_data=dataset_val,\n",
    "    callbacks=[es_callback, modelckpt_callback],\n",
    ")"
   ]
  },
  {
   "cell_type": "markdown",
   "id": "e6cd452c",
   "metadata": {},
   "source": [
    "We can visualize the loss with the function below. After one point, the loss stops decreasing."
   ]
  },
  {
   "cell_type": "code",
   "execution_count": 14,
   "id": "15c989cd",
   "metadata": {},
   "outputs": [
    {
     "data": {
      "image/png": "[encoded data removed]",
      "text/plain": [
       "<Figure size 432x288 with 1 Axes>"
      ]
     },
     "metadata": {
      "needs_background": "light"
     },
     "output_type": "display_data"
    }
   ],
   "source": [
    "def visualize_loss(history, title):\n",
    "    loss = history.history[\"loss\"]\n",
    "    val_loss = history.history[\"val_loss\"]\n",
    "    epochs = range(len(loss))\n",
    "    plt.figure()\n",
    "    plt.plot(epochs, loss, \"b\", label=\"Training loss\")\n",
    "    plt.plot(epochs, val_loss, \"r\", label=\"Validation loss\")\n",
    "    plt.title(title)\n",
    "    plt.xlabel(\"Epochs\")\n",
    "    plt.ylabel(\"Loss\")\n",
    "    plt.legend()\n",
    "    plt.show()\n",
    "\n",
    "\n",
    "visualize_loss(history, \"Training and Validation Loss\")"
   ]
  },
  {
   "cell_type": "markdown",
   "id": "17c0131c",
   "metadata": {},
   "source": [
    "Prediction"
   ]
  },
  {
   "cell_type": "code",
   "execution_count": 15,
   "id": "3b3cbacb",
   "metadata": {},
   "outputs": [
    {
     "data": {
      "image/png": "[encoded data removed]",
      "text/plain": [
       "<Figure size 432x288 with 1 Axes>"
      ]
     },
     "metadata": {
      "needs_background": "light"
     },
     "output_type": "display_data"
    },
    {
     "data": {
      "image/png": "[encoded data removed]",
      "text/plain": [
       "<Figure size 432x288 with 1 Axes>"
      ]
     },
     "metadata": {
      "needs_background": "light"
     },
     "output_type": "display_data"
    },
    {
     "data": {
      "image/png": "[encoded data removed]",
      "text/plain": [
       "<Figure size 432x288 with 1 Axes>"
      ]
     },
     "metadata": {
      "needs_background": "light"
     },
     "output_type": "display_data"
    },
    {
     "data": {
      "image/png": "[encoded data removed]",
      "text/plain": [
       "<Figure size 432x288 with 1 Axes>"
      ]
     },
     "metadata": {
      "needs_background": "light"
     },
     "output_type": "display_data"
    },
    {
     "data": {
      "image/png": "[encoded data removed]",
      "text/plain": [
       "<Figure size 432x288 with 1 Axes>"
      ]
     },
     "metadata": {
      "needs_background": "light"
     },
     "output_type": "display_data"
    }
   ],
   "source": [
    "def show_plot(plot_data, delta, title):\n",
    "    labels = [\"History\", \"True Future\", \"Model Prediction\"]\n",
    "    marker = [\".-\", \"rx\", \"go\"]\n",
    "    time_steps = list(range(-(plot_data[0].shape[0]), 0))\n",
    "    if delta:\n",
    "        future = delta\n",
    "    else:\n",
    "        future = 0\n",
    "\n",
    "    plt.title(title)\n",
    "    for i, val in enumerate(plot_data):\n",
    "        if i:\n",
    "            plt.plot(future, plot_data[i], marker[i], markersize=10, label=labels[i])\n",
    "        else:\n",
    "            plt.plot(time_steps, plot_data[i].flatten(), marker[i], label=labels[i])\n",
    "    plt.legend()\n",
    "    plt.xlim([time_steps[0], (future + 5) * 2])\n",
    "    plt.xlabel(\"Time-Step\")\n",
    "    plt.show()\n",
    "    return\n",
    "\n",
    "\n",
    "for x, y in dataset_val.take(5):\n",
    "    show_plot(\n",
    "        [x[0][:, 1].numpy(), y[0].numpy(), model.predict(x)[0]],\n",
    "        12,\n",
    "        \"Single Step Prediction\",\n",
    "    )"
   ]
  }
 ],
 "metadata": {
  "kernelspec": {
   "display_name": "Python 3",
   "language": "python",
   "name": "python3"
  },
  "language_info": {
   "codemirror_mode": {
    "name": "ipython",
    "version": 3
   },
   "file_extension": ".py",
   "mimetype": "text/x-python",
   "name": "python",
   "nbconvert_exporter": "python",
   "pygments_lexer": "ipython3",
   "version": "3.8.8"
  }
 },
 "nbformat": 4,
 "nbformat_minor": 5
}
